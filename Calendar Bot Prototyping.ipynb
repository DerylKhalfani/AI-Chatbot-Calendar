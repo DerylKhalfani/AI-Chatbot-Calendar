{
 "cells": [
  {
   "metadata": {},
   "cell_type": "markdown",
   "source": "## Run this file on a cloud service if you dont have a compatible GPU/CPU, Used Google Colab for this one",
   "id": "2d0a1904bc104b16"
  },
  {
   "metadata": {},
   "cell_type": "code",
   "source": [
    "# !pip install transformers\n",
    "# !pip install langchain-huggingface\n",
    "# !pip install torch"
   ],
   "id": "158c938a3ae8b4d4",
   "outputs": [],
   "execution_count": null
  },
  {
   "metadata": {},
   "cell_type": "code",
   "outputs": [],
   "execution_count": null,
   "source": [
    "from transformers import pipeline\n",
    "from langchain_huggingface import HuggingFacePipeline\n",
    "from langchain_core.prompts import ChatPromptTemplate, SystemMessagePromptTemplate, HumanMessagePromptTemplate\n",
    "from langchain_core.output_parsers import StrOutputParser"
   ],
   "id": "a46344fdc5ab55eb"
  },
  {
   "metadata": {},
   "cell_type": "markdown",
   "source": "### Functions",
   "id": "37ed4ecb8472b4eb"
  },
  {
   "metadata": {},
   "cell_type": "code",
   "outputs": [],
   "execution_count": null,
   "source": [
    "import re\n",
    "import json\n",
    "\n",
    "def extract_first_json(text):\n",
    "    match = re.search(r\"\\{.*?\\}\", text, re.DOTALL)\n",
    "    if match:\n",
    "        try:\n",
    "            return json.loads(match.group())\n",
    "        except json.JSONDecodeError:\n",
    "            return match.group()\n",
    "    return None\n"
   ],
   "id": "c78d6d851ad1a42a"
  },
  {
   "metadata": {},
   "cell_type": "markdown",
   "source": "### Testing Model",
   "id": "541d7240b27f1bf1"
  },
  {
   "metadata": {},
   "cell_type": "code",
   "source": [
    "from transformers import AutoModelForCausalLM, AutoTokenizer\n",
    "\n",
    "model_name = \"Qwen/Qwen2.5-3B-Instruct\"\n",
    "\n",
    "model = AutoModelForCausalLM.from_pretrained(\n",
    "    model_name,\n",
    "    torch_dtype=\"auto\",\n",
    "    device_map=\"auto\"\n",
    ")\n",
    "tokenizer = AutoTokenizer.from_pretrained(model_name)"
   ],
   "id": "91d827ceee391e27",
   "outputs": [],
   "execution_count": null
  },
  {
   "metadata": {},
   "cell_type": "code",
   "outputs": [],
   "execution_count": null,
   "source": [
    "def chat_with_qwen(user_input, system_prompt=\"You are a helpful AI assistant.\"):\n",
    "  messages = [\n",
    "      {\"role\": \"system\", \"content\": system_prompt},\n",
    "      {\"role\": \"user\", \"content\": user_input}\n",
    "  ]\n",
    "\n",
    "  text = tokenizer.apply_chat_template(\n",
    "      messages,\n",
    "      tokenize=False,\n",
    "      add_generation_prompt=True\n",
    "  )\n",
    "  model_inputs = tokenizer([text], return_tensors=\"pt\").to(model.device)\n",
    "\n",
    "  generated_ids = model.generate(\n",
    "      **model_inputs,\n",
    "      max_new_tokens=128\n",
    "  )\n",
    "  generated_ids = [\n",
    "      output_ids[len(input_ids):] for input_ids, output_ids in zip(model_inputs.input_ids, generated_ids)\n",
    "  ]\n",
    "\n",
    "  response = tokenizer.batch_decode(generated_ids, skip_special_tokens=True)[0]\n",
    "\n",
    "  return response\n"
   ],
   "id": "1557f288350c2f0f"
  },
  {
   "metadata": {},
   "cell_type": "code",
   "outputs": [],
   "execution_count": null,
   "source": [
    "qwen_pipe = pipeline(\n",
    "    \"text-generation\",\n",
    "    model=model,\n",
    "    tokenizer=tokenizer,\n",
    "    max_new_tokens=128,\n",
    "    do_sample=True,\n",
    "    torch_dtype=\"auto\",\n",
    "    device_map=\"auto\"\n",
    "    )\n",
    "\n",
    "llm = HuggingFacePipeline(pipeline=qwen_pipe)"
   ],
   "id": "addf37c02eef5ba1"
  },
  {
   "metadata": {},
   "cell_type": "code",
   "outputs": [],
   "execution_count": null,
   "source": [
    "system_prompt = \"\"\"\n",
    "You are an AI assistant that extracts meeting information from natural language.\n",
    "\n",
    "Respond ONLY with one JSON object that looks like:\n",
    "{{\n",
    "  \"intent\": \"schedule_event\",\n",
    "  \"title\": \"Meeting with Alice\",\n",
    "  \"day\": \"monday\",\n",
    "  \"time\": \"2pm\",\n",
    "  \"participants\": \"Alice\"\n",
    "}}\n",
    "\n",
    "DO NOT REPEAT or explain. Just return the JSON.\n",
    "\"\"\"\n",
    "\n",
    "\n",
    "prompt = ChatPromptTemplate.from_messages([\n",
    "    SystemMessagePromptTemplate.from_template(system_prompt),\n",
    "    HumanMessagePromptTemplate.from_template(\"{user_input}\")\n",
    "])\n",
    "\n",
    "chain = prompt | llm | StrOutputParser()\n",
    "\n",
    "response = chain.invoke({\"user_input\": \"Can you schedule a meeting with Jason next Tuesday at 3pm\"})"
   ],
   "id": "45c7c884486203"
  },
  {
   "metadata": {},
   "cell_type": "code",
   "outputs": [],
   "execution_count": null,
   "source": [
    "cleaned_output = extract_first_json(response)\n",
    "\n",
    "print(cleaned_output)"
   ],
   "id": "30191e80ef498497"
  }
 ],
 "metadata": {
  "kernelspec": {
   "display_name": "Python 3 (ipykernel)",
   "language": "python",
   "name": "python3"
  },
  "language_info": {
   "codemirror_mode": {
    "name": "ipython",
    "version": 3
   },
   "file_extension": ".py",
   "mimetype": "text/x-python",
   "name": "python",
   "nbconvert_exporter": "python",
   "pygments_lexer": "ipython3",
   "version": "3.10.13"
  }
 },
 "nbformat": 4,
 "nbformat_minor": 5
}
